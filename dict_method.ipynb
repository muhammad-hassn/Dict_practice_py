{
 "cells": [
  {
   "cell_type": "code",
   "execution_count": 17,
   "metadata": {},
   "outputs": [
    {
     "name": "stdout",
     "output_type": "stream",
     "text": [
      "dict_keys(['name', 'subject', 'fovt_color', 'Dish'])\n",
      "['name', 'subject', 'fovt_color', 'Dish']\n",
      "4\n",
      "dict_values(['muhammad hassan', {'Math': 94, 'chem': 75, 'bio': 50, 'urdu': 65}, 'Green', 'biryani'])\n",
      "['muhammad hassan', {'Math': 94, 'chem': 75, 'bio': 50, 'urdu': 65}, 'Green', 'biryani']\n",
      "4\n",
      "dict_items([('name', 'muhammad hassan'), ('subject', {'Math': 94, 'chem': 75, 'bio': 50, 'urdu': 65}), ('fovt_color', 'Green'), ('Dish', 'biryani')])\n",
      "['muhammad hassan', {'Math': 94, 'chem': 75, 'bio': 50, 'urdu': 65}, 'Green', 'biryani']\n",
      "None\n",
      "muhammad hassan\n",
      "{'Math': 94, 'chem': 75, 'bio': 50, 'urdu': 65}\n",
      "Green\n",
      "biryani\n",
      "muhammad hassan\n",
      "muhammad hassan\n",
      "None\n"
     ]
    }
   ],
   "source": [
    "student = {\n",
    "    \"name\":\"muhammad hassan\",\n",
    "    \"subject\":{\n",
    "        \"Math\": 94,\n",
    "        \"chem\":75,\n",
    "        \"bio\":50,\n",
    "        \"urdu\":65\n",
    "    },\n",
    "    \"fovt_color\": \"Green\",\n",
    "    \"Dish\": \"biryani\",\n",
    "}\n",
    "#METHOD\n",
    "# 1) .keys()  -----> Return all key value\n",
    "print(student.keys())\n",
    "print(list(student.keys())) # Its convert in to list or Type Casting \n",
    "print(len(list(student.keys()))) # Its length\n",
    "\n",
    "\n",
    "# 2) .values ------> Return all Values without keys\n",
    "print(student.values()) \n",
    "print(list(student.values()))# Type Cast\n",
    "print(len(list(student.values()))) # and its length\n",
    "\n",
    "# 3) .items -------> Return all (key value) pair as tuple\n",
    "\n",
    "print(student.items())\n",
    "print(print(list(student.values()))) # TypeCast\n",
    "pairs = (list(student.values()))\n",
    "print(pairs[0])\n",
    "print(pairs[1])\n",
    "print(pairs[2])\n",
    "print(pairs[3])\n",
    "\n",
    "# 4) .get() -------> Return the key accoenrding to the vlaue.\n",
    "\n",
    "print(student[\"name\"])\n",
    "print(student.get(\"name\"))\n",
    "\n",
    "#    print(student[\"name2\"])    #--> Error\n",
    "print(student.get(\"name2\"))     # ---> No Error --> None\n",
    "\n"
   ]
  },
  {
   "cell_type": "code",
   "execution_count": 21,
   "metadata": {},
   "outputs": [
    {
     "name": "stdout",
     "output_type": "stream",
     "text": [
      "{'name': 'muhammad hassan', 'subject': {'Math': 94, 'chem': 75, 'bio': 50, 'urdu': 65}, 'fovt_color': 'Green', 'Dish': 'biryani', 'Fther_name': 'Atique', 'Mother': 'Naheed'}\n",
      "{'Fther_name': 'Atique', 'Mother': 'Naheed'}\n"
     ]
    }
   ],
   "source": [
    "# 5) .update(NewDict) -------> Insert the Specific items to the dictionary\n",
    "\n",
    "student = {\n",
    "    \"name\":\"muhammad hassan\",\n",
    "    \"subject\":{\n",
    "        \"Math\": 94,\n",
    "        \"chem\":75,\n",
    "        \"bio\":50,\n",
    "        \"urdu\":65\n",
    "    },\n",
    "    \"fovt_color\": \"Green\",\n",
    "    \"Dish\": \"biryani\",\n",
    "}\n",
    "\n",
    "student.update({\"Fther_name\":\"Atique\"})\n",
    "new_Dict = {\"Fther_name\":\"Atique\",\"Mother\":\"Naheed\"}\n",
    "student.update(new_Dict)\n",
    "print(student)\n"
   ]
  },
  {
   "cell_type": "code",
   "execution_count": 56,
   "metadata": {},
   "outputs": [
    {
     "name": "stdout",
     "output_type": "stream",
     "text": [
      "[89]\n"
     ]
    }
   ],
   "source": [
    "## ------------------------------------------------- SLICING-------------------------------------------------\n",
    "\n",
    "student1 = {\n",
    "    \"name\":\"muhammad hassan\",\n",
    "    \"subject\":{\n",
    "        \"Math\": 94,\n",
    "        \"chem\":75,\n",
    "        \"bio\":50,\n",
    "        \"urdu\":65,\n",
    "        \"python\":{\"first_test\":100,\"sec_test\":90,\n",
    "                \"final_test\" :[100,89]\n",
    "                }\n",
    "    },\n",
    "    \"fovt_color\": \"Green\",\n",
    "    \"Dish\": \"biryani\",\n",
    "}\n",
    "slicing = student1[\"subject\"][\"python\"][\"final_test\"][1:]\n",
    "print(slicing)\n",
    "\n"
   ]
  },
  {
   "cell_type": "code",
   "execution_count": null,
   "metadata": {},
   "outputs": [],
   "source": []
  }
 ],
 "metadata": {
  "kernelspec": {
   "display_name": "Python 3",
   "language": "python",
   "name": "python3"
  },
  "language_info": {
   "codemirror_mode": {
    "name": "ipython",
    "version": 3
   },
   "file_extension": ".py",
   "mimetype": "text/x-python",
   "name": "python",
   "nbconvert_exporter": "python",
   "pygments_lexer": "ipython3",
   "version": "3.11.5"
  }
 },
 "nbformat": 4,
 "nbformat_minor": 2
}
